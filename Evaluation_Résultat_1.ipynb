{
  "nbformat": 4,
  "nbformat_minor": 0,
  "metadata": {
    "colab": {
      "provenance": [],
      "collapsed_sections": [],
      "toc_visible": true,
      "include_colab_link": true
    },
    "kernelspec": {
      "name": "python3",
      "display_name": "Python 3"
    }
  },
  "cells": [
    {
      "cell_type": "markdown",
      "metadata": {
        "id": "view-in-github",
        "colab_type": "text"
      },
      "source": [
        "<a href=\"https://colab.research.google.com/github/Marceline37/Test1/blob/main/Evaluation_R%C3%A9sultat_1.ipynb\" target=\"_parent\"><img src=\"https://colab.research.google.com/assets/colab-badge.svg\" alt=\"Open In Colab\"/></a>"
      ]
    },
    {
      "cell_type": "markdown",
      "metadata": {
        "id": "pJsqufvk5fOq"
      },
      "source": [
        "# Dev IA - Evaluation n°1 - Mars 2022\n",
        "Ceci est un point d'étape pour évaluer les compétences acquises à ce stade. \n",
        "  \n",
        "Faites une copie de ce notebook, modifiez-le librement puis partager votre travail en fin de session sur Simplonline (veuillez vous assurer que les accès à votre document sont autorisés à des tiers).\n"
      ]
    },
    {
      "cell_type": "markdown",
      "source": [
        "## Objectifs\n",
        "Pour toute les étapes ci-dessous il vous est demandé d'**argumenter vos choix** et d'**expliquer les résultats** obtenus."
      ],
      "metadata": {
        "id": "NL7TYnxCsIf9"
      }
    },
    {
      "cell_type": "markdown",
      "source": [
        "* Réaliser une EDA (Exploratory Data Analysis) sur le jeu de données\n",
        "  - Descrire les données\n",
        "  - Réaliser une analyse univariée et bivariée\n",
        "\n",
        "* Réaliser le preprocessing des données\n",
        "  - Gérer les données manquantes\n",
        "  - Procéder à la normalisation / encodage\n",
        "\n",
        "* Entrainer un modèle d'apprentissage supervisé\n",
        "  - Choisir un modèle répondant aux objectifs du projet\n",
        "  - Définir les paramètres du modèle\n",
        "  - Utiliser la validation croisée\n",
        "\n",
        "* Evaluer le modèle\n",
        "  - Choisir la ou les métriques d'erreur\n",
        "  - Valider les performances obtenues\n",
        "\n",
        "* Conclure\n",
        "  - Réalisation du projet\n",
        "  - Difficultés\n",
        "  - Performance\n",
        "  - ...\n"
      ],
      "metadata": {
        "id": "XJKGONpNZ2yq"
      }
    },
    {
      "cell_type": "markdown",
      "source": [
        "## Bonus\n",
        "Pour ceux qui veulent aller plus loin, vous pouvez notamment :"
      ],
      "metadata": {
        "id": "czz8lt5vtN38"
      }
    },
    {
      "cell_type": "markdown",
      "source": [
        "* Utiliser un Pipeline\n",
        "* Procéder à une recherche exhaustive des hyper-paramètres (grid search)\n",
        "* Procéder à une comparaison de modèles\n",
        "* Réaliser une prédiction sur des nouvelles données\n",
        "* Restituer des graphiques pour améliorer la compréhension du projet\n",
        "* Laisser parler votre intuition ..."
      ],
      "metadata": {
        "id": "Ua0qvJPmZ24p"
      }
    },
    {
      "cell_type": "markdown",
      "metadata": {
        "id": "YO9riWqL886F"
      },
      "source": [
        "##Le jeu de données\n",
        "Le jeu de données est disponible ci-dessous.  \n",
        "Il concerne le recensement d'animaux marins (dauphins) selon différentes caractéristiques :\n",
        "* la cible à prédire est la colonne `variety`\n",
        "* les features (numériques et catégorielles) sont toutes les autres colonnes :\n",
        "  - `area` : zone géographique où l'animal réside\n",
        "  - `dimension_1_mm` : dimension n°1 de l'animal\n",
        "  - `dimension_2_mm` : dimension n°2 de l'animal\n",
        "  - `dimension_3_mm` : dimension n°3 de l'animal\n",
        "  - `mass_g` : masse de l'animal\n",
        "  - `sex` : genre de l'animal"
      ]
    },
    {
      "cell_type": "markdown",
      "source": [
        "# Librairies et chargement des données dolphins"
      ],
      "metadata": {
        "id": "-P6P_LVjaGKD"
      }
    },
    {
      "cell_type": "code",
      "metadata": {
        "id": "U4GqLhGX5Yth"
      },
      "source": [
        "import pandas as pd\n",
        "import numpy as np\n",
        "import matplotlib.pyplot as plt\n",
        "import pandas as pd\n",
        "import seaborn as sns\n",
        "%matplotlib inline"
      ],
      "execution_count": null,
      "outputs": []
    },
    {
      "cell_type": "code",
      "source": [
        "url = \"https://raw.githubusercontent.com/remijul/dataset/master/dolphins.csv\"\n",
        "df = pd.read_csv(url)\n",
        "df"
      ],
      "metadata": {
        "id": "xLJ-S4c4Fi2Q",
        "outputId": "3edb64b9-4f47-4ef3-a722-d6ccda9f628e",
        "colab": {
          "base_uri": "https://localhost:8080/",
          "height": 423
        }
      },
      "execution_count": null,
      "outputs": [
        {
          "output_type": "execute_result",
          "data": {
            "text/plain": [
              "        variety       area  dimension_1_mm  dimension_2_mm  dimension_3_mm  \\\n",
              "0    Tropicalis      Artic            39.1            18.7           181.0   \n",
              "1    Tropicalis      Artic            39.5            17.4           186.0   \n",
              "2    Tropicalis      Artic            40.3            18.0           195.0   \n",
              "3    Tropicalis      Artic             NaN             NaN             NaN   \n",
              "4    Tropicalis      Artic            36.7            19.3           193.0   \n",
              "..          ...        ...             ...             ...             ...   \n",
              "339       Peale  Caraibean             NaN             NaN             NaN   \n",
              "340       Peale  Caraibean            46.8            14.3           215.0   \n",
              "341       Peale  Caraibean            50.4            15.7           222.0   \n",
              "342       Peale  Caraibean            45.2            14.8           212.0   \n",
              "343       Peale  Caraibean            49.9            16.1           213.0   \n",
              "\n",
              "     mass_g     sex  \n",
              "0    3750.0    MALE  \n",
              "1    3800.0  FEMALE  \n",
              "2    3250.0  FEMALE  \n",
              "3       NaN     NaN  \n",
              "4    3450.0  FEMALE  \n",
              "..      ...     ...  \n",
              "339     NaN     NaN  \n",
              "340  4850.0  FEMALE  \n",
              "341  5750.0    MALE  \n",
              "342  5200.0  FEMALE  \n",
              "343  5400.0    MALE  \n",
              "\n",
              "[344 rows x 7 columns]"
            ],
            "text/html": [
              "\n",
              "  <div id=\"df-91efe5ac-9f09-43cc-bb0a-bf501611898e\">\n",
              "    <div class=\"colab-df-container\">\n",
              "      <div>\n",
              "<style scoped>\n",
              "    .dataframe tbody tr th:only-of-type {\n",
              "        vertical-align: middle;\n",
              "    }\n",
              "\n",
              "    .dataframe tbody tr th {\n",
              "        vertical-align: top;\n",
              "    }\n",
              "\n",
              "    .dataframe thead th {\n",
              "        text-align: right;\n",
              "    }\n",
              "</style>\n",
              "<table border=\"1\" class=\"dataframe\">\n",
              "  <thead>\n",
              "    <tr style=\"text-align: right;\">\n",
              "      <th></th>\n",
              "      <th>variety</th>\n",
              "      <th>area</th>\n",
              "      <th>dimension_1_mm</th>\n",
              "      <th>dimension_2_mm</th>\n",
              "      <th>dimension_3_mm</th>\n",
              "      <th>mass_g</th>\n",
              "      <th>sex</th>\n",
              "    </tr>\n",
              "  </thead>\n",
              "  <tbody>\n",
              "    <tr>\n",
              "      <th>0</th>\n",
              "      <td>Tropicalis</td>\n",
              "      <td>Artic</td>\n",
              "      <td>39.1</td>\n",
              "      <td>18.7</td>\n",
              "      <td>181.0</td>\n",
              "      <td>3750.0</td>\n",
              "      <td>MALE</td>\n",
              "    </tr>\n",
              "    <tr>\n",
              "      <th>1</th>\n",
              "      <td>Tropicalis</td>\n",
              "      <td>Artic</td>\n",
              "      <td>39.5</td>\n",
              "      <td>17.4</td>\n",
              "      <td>186.0</td>\n",
              "      <td>3800.0</td>\n",
              "      <td>FEMALE</td>\n",
              "    </tr>\n",
              "    <tr>\n",
              "      <th>2</th>\n",
              "      <td>Tropicalis</td>\n",
              "      <td>Artic</td>\n",
              "      <td>40.3</td>\n",
              "      <td>18.0</td>\n",
              "      <td>195.0</td>\n",
              "      <td>3250.0</td>\n",
              "      <td>FEMALE</td>\n",
              "    </tr>\n",
              "    <tr>\n",
              "      <th>3</th>\n",
              "      <td>Tropicalis</td>\n",
              "      <td>Artic</td>\n",
              "      <td>NaN</td>\n",
              "      <td>NaN</td>\n",
              "      <td>NaN</td>\n",
              "      <td>NaN</td>\n",
              "      <td>NaN</td>\n",
              "    </tr>\n",
              "    <tr>\n",
              "      <th>4</th>\n",
              "      <td>Tropicalis</td>\n",
              "      <td>Artic</td>\n",
              "      <td>36.7</td>\n",
              "      <td>19.3</td>\n",
              "      <td>193.0</td>\n",
              "      <td>3450.0</td>\n",
              "      <td>FEMALE</td>\n",
              "    </tr>\n",
              "    <tr>\n",
              "      <th>...</th>\n",
              "      <td>...</td>\n",
              "      <td>...</td>\n",
              "      <td>...</td>\n",
              "      <td>...</td>\n",
              "      <td>...</td>\n",
              "      <td>...</td>\n",
              "      <td>...</td>\n",
              "    </tr>\n",
              "    <tr>\n",
              "      <th>339</th>\n",
              "      <td>Peale</td>\n",
              "      <td>Caraibean</td>\n",
              "      <td>NaN</td>\n",
              "      <td>NaN</td>\n",
              "      <td>NaN</td>\n",
              "      <td>NaN</td>\n",
              "      <td>NaN</td>\n",
              "    </tr>\n",
              "    <tr>\n",
              "      <th>340</th>\n",
              "      <td>Peale</td>\n",
              "      <td>Caraibean</td>\n",
              "      <td>46.8</td>\n",
              "      <td>14.3</td>\n",
              "      <td>215.0</td>\n",
              "      <td>4850.0</td>\n",
              "      <td>FEMALE</td>\n",
              "    </tr>\n",
              "    <tr>\n",
              "      <th>341</th>\n",
              "      <td>Peale</td>\n",
              "      <td>Caraibean</td>\n",
              "      <td>50.4</td>\n",
              "      <td>15.7</td>\n",
              "      <td>222.0</td>\n",
              "      <td>5750.0</td>\n",
              "      <td>MALE</td>\n",
              "    </tr>\n",
              "    <tr>\n",
              "      <th>342</th>\n",
              "      <td>Peale</td>\n",
              "      <td>Caraibean</td>\n",
              "      <td>45.2</td>\n",
              "      <td>14.8</td>\n",
              "      <td>212.0</td>\n",
              "      <td>5200.0</td>\n",
              "      <td>FEMALE</td>\n",
              "    </tr>\n",
              "    <tr>\n",
              "      <th>343</th>\n",
              "      <td>Peale</td>\n",
              "      <td>Caraibean</td>\n",
              "      <td>49.9</td>\n",
              "      <td>16.1</td>\n",
              "      <td>213.0</td>\n",
              "      <td>5400.0</td>\n",
              "      <td>MALE</td>\n",
              "    </tr>\n",
              "  </tbody>\n",
              "</table>\n",
              "<p>344 rows × 7 columns</p>\n",
              "</div>\n",
              "      <button class=\"colab-df-convert\" onclick=\"convertToInteractive('df-91efe5ac-9f09-43cc-bb0a-bf501611898e')\"\n",
              "              title=\"Convert this dataframe to an interactive table.\"\n",
              "              style=\"display:none;\">\n",
              "        \n",
              "  <svg xmlns=\"http://www.w3.org/2000/svg\" height=\"24px\"viewBox=\"0 0 24 24\"\n",
              "       width=\"24px\">\n",
              "    <path d=\"M0 0h24v24H0V0z\" fill=\"none\"/>\n",
              "    <path d=\"M18.56 5.44l.94 2.06.94-2.06 2.06-.94-2.06-.94-.94-2.06-.94 2.06-2.06.94zm-11 1L8.5 8.5l.94-2.06 2.06-.94-2.06-.94L8.5 2.5l-.94 2.06-2.06.94zm10 10l.94 2.06.94-2.06 2.06-.94-2.06-.94-.94-2.06-.94 2.06-2.06.94z\"/><path d=\"M17.41 7.96l-1.37-1.37c-.4-.4-.92-.59-1.43-.59-.52 0-1.04.2-1.43.59L10.3 9.45l-7.72 7.72c-.78.78-.78 2.05 0 2.83L4 21.41c.39.39.9.59 1.41.59.51 0 1.02-.2 1.41-.59l7.78-7.78 2.81-2.81c.8-.78.8-2.07 0-2.86zM5.41 20L4 18.59l7.72-7.72 1.47 1.35L5.41 20z\"/>\n",
              "  </svg>\n",
              "      </button>\n",
              "      \n",
              "  <style>\n",
              "    .colab-df-container {\n",
              "      display:flex;\n",
              "      flex-wrap:wrap;\n",
              "      gap: 12px;\n",
              "    }\n",
              "\n",
              "    .colab-df-convert {\n",
              "      background-color: #E8F0FE;\n",
              "      border: none;\n",
              "      border-radius: 50%;\n",
              "      cursor: pointer;\n",
              "      display: none;\n",
              "      fill: #1967D2;\n",
              "      height: 32px;\n",
              "      padding: 0 0 0 0;\n",
              "      width: 32px;\n",
              "    }\n",
              "\n",
              "    .colab-df-convert:hover {\n",
              "      background-color: #E2EBFA;\n",
              "      box-shadow: 0px 1px 2px rgba(60, 64, 67, 0.3), 0px 1px 3px 1px rgba(60, 64, 67, 0.15);\n",
              "      fill: #174EA6;\n",
              "    }\n",
              "\n",
              "    [theme=dark] .colab-df-convert {\n",
              "      background-color: #3B4455;\n",
              "      fill: #D2E3FC;\n",
              "    }\n",
              "\n",
              "    [theme=dark] .colab-df-convert:hover {\n",
              "      background-color: #434B5C;\n",
              "      box-shadow: 0px 1px 3px 1px rgba(0, 0, 0, 0.15);\n",
              "      filter: drop-shadow(0px 1px 2px rgba(0, 0, 0, 0.3));\n",
              "      fill: #FFFFFF;\n",
              "    }\n",
              "  </style>\n",
              "\n",
              "      <script>\n",
              "        const buttonEl =\n",
              "          document.querySelector('#df-91efe5ac-9f09-43cc-bb0a-bf501611898e button.colab-df-convert');\n",
              "        buttonEl.style.display =\n",
              "          google.colab.kernel.accessAllowed ? 'block' : 'none';\n",
              "\n",
              "        async function convertToInteractive(key) {\n",
              "          const element = document.querySelector('#df-91efe5ac-9f09-43cc-bb0a-bf501611898e');\n",
              "          const dataTable =\n",
              "            await google.colab.kernel.invokeFunction('convertToInteractive',\n",
              "                                                     [key], {});\n",
              "          if (!dataTable) return;\n",
              "\n",
              "          const docLinkHtml = 'Like what you see? Visit the ' +\n",
              "            '<a target=\"_blank\" href=https://colab.research.google.com/notebooks/data_table.ipynb>data table notebook</a>'\n",
              "            + ' to learn more about interactive tables.';\n",
              "          element.innerHTML = '';\n",
              "          dataTable['output_type'] = 'display_data';\n",
              "          await google.colab.output.renderOutput(dataTable, element);\n",
              "          const docLink = document.createElement('div');\n",
              "          docLink.innerHTML = docLinkHtml;\n",
              "          element.appendChild(docLink);\n",
              "        }\n",
              "      </script>\n",
              "    </div>\n",
              "  </div>\n",
              "  "
            ]
          },
          "metadata": {},
          "execution_count": 3
        }
      ]
    },
    {
      "cell_type": "markdown",
      "source": [
        "# EDA - Exploration des données\n"
      ],
      "metadata": {
        "id": "4VHmh2R7GnS2"
      }
    },
    {
      "cell_type": "code",
      "source": [
        "df.head()"
      ],
      "metadata": {
        "id": "sZk30jd7NqrZ",
        "outputId": "44bc547a-1cd7-4e7b-cdd0-efedd9227c99",
        "colab": {
          "base_uri": "https://localhost:8080/",
          "height": 206
        }
      },
      "execution_count": null,
      "outputs": [
        {
          "output_type": "execute_result",
          "data": {
            "text/plain": [
              "      variety   area  dimension_1_mm  dimension_2_mm  dimension_3_mm  mass_g  \\\n",
              "0  Tropicalis  Artic            39.1            18.7           181.0  3750.0   \n",
              "1  Tropicalis  Artic            39.5            17.4           186.0  3800.0   \n",
              "2  Tropicalis  Artic            40.3            18.0           195.0  3250.0   \n",
              "3  Tropicalis  Artic             NaN             NaN             NaN     NaN   \n",
              "4  Tropicalis  Artic            36.7            19.3           193.0  3450.0   \n",
              "\n",
              "      sex  \n",
              "0    MALE  \n",
              "1  FEMALE  \n",
              "2  FEMALE  \n",
              "3     NaN  \n",
              "4  FEMALE  "
            ],
            "text/html": [
              "\n",
              "  <div id=\"df-8340348b-4fdd-45ef-9758-fc5c502fb765\">\n",
              "    <div class=\"colab-df-container\">\n",
              "      <div>\n",
              "<style scoped>\n",
              "    .dataframe tbody tr th:only-of-type {\n",
              "        vertical-align: middle;\n",
              "    }\n",
              "\n",
              "    .dataframe tbody tr th {\n",
              "        vertical-align: top;\n",
              "    }\n",
              "\n",
              "    .dataframe thead th {\n",
              "        text-align: right;\n",
              "    }\n",
              "</style>\n",
              "<table border=\"1\" class=\"dataframe\">\n",
              "  <thead>\n",
              "    <tr style=\"text-align: right;\">\n",
              "      <th></th>\n",
              "      <th>variety</th>\n",
              "      <th>area</th>\n",
              "      <th>dimension_1_mm</th>\n",
              "      <th>dimension_2_mm</th>\n",
              "      <th>dimension_3_mm</th>\n",
              "      <th>mass_g</th>\n",
              "      <th>sex</th>\n",
              "    </tr>\n",
              "  </thead>\n",
              "  <tbody>\n",
              "    <tr>\n",
              "      <th>0</th>\n",
              "      <td>Tropicalis</td>\n",
              "      <td>Artic</td>\n",
              "      <td>39.1</td>\n",
              "      <td>18.7</td>\n",
              "      <td>181.0</td>\n",
              "      <td>3750.0</td>\n",
              "      <td>MALE</td>\n",
              "    </tr>\n",
              "    <tr>\n",
              "      <th>1</th>\n",
              "      <td>Tropicalis</td>\n",
              "      <td>Artic</td>\n",
              "      <td>39.5</td>\n",
              "      <td>17.4</td>\n",
              "      <td>186.0</td>\n",
              "      <td>3800.0</td>\n",
              "      <td>FEMALE</td>\n",
              "    </tr>\n",
              "    <tr>\n",
              "      <th>2</th>\n",
              "      <td>Tropicalis</td>\n",
              "      <td>Artic</td>\n",
              "      <td>40.3</td>\n",
              "      <td>18.0</td>\n",
              "      <td>195.0</td>\n",
              "      <td>3250.0</td>\n",
              "      <td>FEMALE</td>\n",
              "    </tr>\n",
              "    <tr>\n",
              "      <th>3</th>\n",
              "      <td>Tropicalis</td>\n",
              "      <td>Artic</td>\n",
              "      <td>NaN</td>\n",
              "      <td>NaN</td>\n",
              "      <td>NaN</td>\n",
              "      <td>NaN</td>\n",
              "      <td>NaN</td>\n",
              "    </tr>\n",
              "    <tr>\n",
              "      <th>4</th>\n",
              "      <td>Tropicalis</td>\n",
              "      <td>Artic</td>\n",
              "      <td>36.7</td>\n",
              "      <td>19.3</td>\n",
              "      <td>193.0</td>\n",
              "      <td>3450.0</td>\n",
              "      <td>FEMALE</td>\n",
              "    </tr>\n",
              "  </tbody>\n",
              "</table>\n",
              "</div>\n",
              "      <button class=\"colab-df-convert\" onclick=\"convertToInteractive('df-8340348b-4fdd-45ef-9758-fc5c502fb765')\"\n",
              "              title=\"Convert this dataframe to an interactive table.\"\n",
              "              style=\"display:none;\">\n",
              "        \n",
              "  <svg xmlns=\"http://www.w3.org/2000/svg\" height=\"24px\"viewBox=\"0 0 24 24\"\n",
              "       width=\"24px\">\n",
              "    <path d=\"M0 0h24v24H0V0z\" fill=\"none\"/>\n",
              "    <path d=\"M18.56 5.44l.94 2.06.94-2.06 2.06-.94-2.06-.94-.94-2.06-.94 2.06-2.06.94zm-11 1L8.5 8.5l.94-2.06 2.06-.94-2.06-.94L8.5 2.5l-.94 2.06-2.06.94zm10 10l.94 2.06.94-2.06 2.06-.94-2.06-.94-.94-2.06-.94 2.06-2.06.94z\"/><path d=\"M17.41 7.96l-1.37-1.37c-.4-.4-.92-.59-1.43-.59-.52 0-1.04.2-1.43.59L10.3 9.45l-7.72 7.72c-.78.78-.78 2.05 0 2.83L4 21.41c.39.39.9.59 1.41.59.51 0 1.02-.2 1.41-.59l7.78-7.78 2.81-2.81c.8-.78.8-2.07 0-2.86zM5.41 20L4 18.59l7.72-7.72 1.47 1.35L5.41 20z\"/>\n",
              "  </svg>\n",
              "      </button>\n",
              "      \n",
              "  <style>\n",
              "    .colab-df-container {\n",
              "      display:flex;\n",
              "      flex-wrap:wrap;\n",
              "      gap: 12px;\n",
              "    }\n",
              "\n",
              "    .colab-df-convert {\n",
              "      background-color: #E8F0FE;\n",
              "      border: none;\n",
              "      border-radius: 50%;\n",
              "      cursor: pointer;\n",
              "      display: none;\n",
              "      fill: #1967D2;\n",
              "      height: 32px;\n",
              "      padding: 0 0 0 0;\n",
              "      width: 32px;\n",
              "    }\n",
              "\n",
              "    .colab-df-convert:hover {\n",
              "      background-color: #E2EBFA;\n",
              "      box-shadow: 0px 1px 2px rgba(60, 64, 67, 0.3), 0px 1px 3px 1px rgba(60, 64, 67, 0.15);\n",
              "      fill: #174EA6;\n",
              "    }\n",
              "\n",
              "    [theme=dark] .colab-df-convert {\n",
              "      background-color: #3B4455;\n",
              "      fill: #D2E3FC;\n",
              "    }\n",
              "\n",
              "    [theme=dark] .colab-df-convert:hover {\n",
              "      background-color: #434B5C;\n",
              "      box-shadow: 0px 1px 3px 1px rgba(0, 0, 0, 0.15);\n",
              "      filter: drop-shadow(0px 1px 2px rgba(0, 0, 0, 0.3));\n",
              "      fill: #FFFFFF;\n",
              "    }\n",
              "  </style>\n",
              "\n",
              "      <script>\n",
              "        const buttonEl =\n",
              "          document.querySelector('#df-8340348b-4fdd-45ef-9758-fc5c502fb765 button.colab-df-convert');\n",
              "        buttonEl.style.display =\n",
              "          google.colab.kernel.accessAllowed ? 'block' : 'none';\n",
              "\n",
              "        async function convertToInteractive(key) {\n",
              "          const element = document.querySelector('#df-8340348b-4fdd-45ef-9758-fc5c502fb765');\n",
              "          const dataTable =\n",
              "            await google.colab.kernel.invokeFunction('convertToInteractive',\n",
              "                                                     [key], {});\n",
              "          if (!dataTable) return;\n",
              "\n",
              "          const docLinkHtml = 'Like what you see? Visit the ' +\n",
              "            '<a target=\"_blank\" href=https://colab.research.google.com/notebooks/data_table.ipynb>data table notebook</a>'\n",
              "            + ' to learn more about interactive tables.';\n",
              "          element.innerHTML = '';\n",
              "          dataTable['output_type'] = 'display_data';\n",
              "          await google.colab.output.renderOutput(dataTable, element);\n",
              "          const docLink = document.createElement('div');\n",
              "          docLink.innerHTML = docLinkHtml;\n",
              "          element.appendChild(docLink);\n",
              "        }\n",
              "      </script>\n",
              "    </div>\n",
              "  </div>\n",
              "  "
            ]
          },
          "metadata": {},
          "execution_count": 4
        }
      ]
    },
    {
      "cell_type": "code",
      "source": [
        "df.shape"
      ],
      "metadata": {
        "id": "wT2vukZxGFsd",
        "outputId": "b14c4368-54fb-410f-b4d1-f56516eab2ef",
        "colab": {
          "base_uri": "https://localhost:8080/"
        }
      },
      "execution_count": null,
      "outputs": [
        {
          "output_type": "execute_result",
          "data": {
            "text/plain": [
              "(344, 7)"
            ]
          },
          "metadata": {},
          "execution_count": 5
        }
      ]
    },
    {
      "cell_type": "markdown",
      "source": [
        "*Les données sont réparties sur 7 colonnes et contiennent 344 lignes.*"
      ],
      "metadata": {
        "id": "eiZ7aLNsYZWm"
      }
    },
    {
      "cell_type": "code",
      "source": [
        "df.describe().round(2)"
      ],
      "metadata": {
        "id": "aCZ3qes1GQyO",
        "outputId": "d1629dd9-6e7c-4a76-a43b-e28cdaeff458",
        "colab": {
          "base_uri": "https://localhost:8080/",
          "height": 300
        }
      },
      "execution_count": null,
      "outputs": [
        {
          "output_type": "execute_result",
          "data": {
            "text/plain": [
              "       dimension_1_mm  dimension_2_mm  dimension_3_mm   mass_g\n",
              "count          342.00          342.00          342.00   342.00\n",
              "mean            43.92           17.15          200.92  4201.75\n",
              "std              5.46            1.97           14.06   801.95\n",
              "min             32.10           13.10          172.00  2700.00\n",
              "25%             39.22           15.60          190.00  3550.00\n",
              "50%             44.45           17.30          197.00  4050.00\n",
              "75%             48.50           18.70          213.00  4750.00\n",
              "max             59.60           21.50          231.00  6300.00"
            ],
            "text/html": [
              "\n",
              "  <div id=\"df-ec97518a-ebf0-4ebb-99ae-c8901b5c27d5\">\n",
              "    <div class=\"colab-df-container\">\n",
              "      <div>\n",
              "<style scoped>\n",
              "    .dataframe tbody tr th:only-of-type {\n",
              "        vertical-align: middle;\n",
              "    }\n",
              "\n",
              "    .dataframe tbody tr th {\n",
              "        vertical-align: top;\n",
              "    }\n",
              "\n",
              "    .dataframe thead th {\n",
              "        text-align: right;\n",
              "    }\n",
              "</style>\n",
              "<table border=\"1\" class=\"dataframe\">\n",
              "  <thead>\n",
              "    <tr style=\"text-align: right;\">\n",
              "      <th></th>\n",
              "      <th>dimension_1_mm</th>\n",
              "      <th>dimension_2_mm</th>\n",
              "      <th>dimension_3_mm</th>\n",
              "      <th>mass_g</th>\n",
              "    </tr>\n",
              "  </thead>\n",
              "  <tbody>\n",
              "    <tr>\n",
              "      <th>count</th>\n",
              "      <td>342.00</td>\n",
              "      <td>342.00</td>\n",
              "      <td>342.00</td>\n",
              "      <td>342.00</td>\n",
              "    </tr>\n",
              "    <tr>\n",
              "      <th>mean</th>\n",
              "      <td>43.92</td>\n",
              "      <td>17.15</td>\n",
              "      <td>200.92</td>\n",
              "      <td>4201.75</td>\n",
              "    </tr>\n",
              "    <tr>\n",
              "      <th>std</th>\n",
              "      <td>5.46</td>\n",
              "      <td>1.97</td>\n",
              "      <td>14.06</td>\n",
              "      <td>801.95</td>\n",
              "    </tr>\n",
              "    <tr>\n",
              "      <th>min</th>\n",
              "      <td>32.10</td>\n",
              "      <td>13.10</td>\n",
              "      <td>172.00</td>\n",
              "      <td>2700.00</td>\n",
              "    </tr>\n",
              "    <tr>\n",
              "      <th>25%</th>\n",
              "      <td>39.22</td>\n",
              "      <td>15.60</td>\n",
              "      <td>190.00</td>\n",
              "      <td>3550.00</td>\n",
              "    </tr>\n",
              "    <tr>\n",
              "      <th>50%</th>\n",
              "      <td>44.45</td>\n",
              "      <td>17.30</td>\n",
              "      <td>197.00</td>\n",
              "      <td>4050.00</td>\n",
              "    </tr>\n",
              "    <tr>\n",
              "      <th>75%</th>\n",
              "      <td>48.50</td>\n",
              "      <td>18.70</td>\n",
              "      <td>213.00</td>\n",
              "      <td>4750.00</td>\n",
              "    </tr>\n",
              "    <tr>\n",
              "      <th>max</th>\n",
              "      <td>59.60</td>\n",
              "      <td>21.50</td>\n",
              "      <td>231.00</td>\n",
              "      <td>6300.00</td>\n",
              "    </tr>\n",
              "  </tbody>\n",
              "</table>\n",
              "</div>\n",
              "      <button class=\"colab-df-convert\" onclick=\"convertToInteractive('df-ec97518a-ebf0-4ebb-99ae-c8901b5c27d5')\"\n",
              "              title=\"Convert this dataframe to an interactive table.\"\n",
              "              style=\"display:none;\">\n",
              "        \n",
              "  <svg xmlns=\"http://www.w3.org/2000/svg\" height=\"24px\"viewBox=\"0 0 24 24\"\n",
              "       width=\"24px\">\n",
              "    <path d=\"M0 0h24v24H0V0z\" fill=\"none\"/>\n",
              "    <path d=\"M18.56 5.44l.94 2.06.94-2.06 2.06-.94-2.06-.94-.94-2.06-.94 2.06-2.06.94zm-11 1L8.5 8.5l.94-2.06 2.06-.94-2.06-.94L8.5 2.5l-.94 2.06-2.06.94zm10 10l.94 2.06.94-2.06 2.06-.94-2.06-.94-.94-2.06-.94 2.06-2.06.94z\"/><path d=\"M17.41 7.96l-1.37-1.37c-.4-.4-.92-.59-1.43-.59-.52 0-1.04.2-1.43.59L10.3 9.45l-7.72 7.72c-.78.78-.78 2.05 0 2.83L4 21.41c.39.39.9.59 1.41.59.51 0 1.02-.2 1.41-.59l7.78-7.78 2.81-2.81c.8-.78.8-2.07 0-2.86zM5.41 20L4 18.59l7.72-7.72 1.47 1.35L5.41 20z\"/>\n",
              "  </svg>\n",
              "      </button>\n",
              "      \n",
              "  <style>\n",
              "    .colab-df-container {\n",
              "      display:flex;\n",
              "      flex-wrap:wrap;\n",
              "      gap: 12px;\n",
              "    }\n",
              "\n",
              "    .colab-df-convert {\n",
              "      background-color: #E8F0FE;\n",
              "      border: none;\n",
              "      border-radius: 50%;\n",
              "      cursor: pointer;\n",
              "      display: none;\n",
              "      fill: #1967D2;\n",
              "      height: 32px;\n",
              "      padding: 0 0 0 0;\n",
              "      width: 32px;\n",
              "    }\n",
              "\n",
              "    .colab-df-convert:hover {\n",
              "      background-color: #E2EBFA;\n",
              "      box-shadow: 0px 1px 2px rgba(60, 64, 67, 0.3), 0px 1px 3px 1px rgba(60, 64, 67, 0.15);\n",
              "      fill: #174EA6;\n",
              "    }\n",
              "\n",
              "    [theme=dark] .colab-df-convert {\n",
              "      background-color: #3B4455;\n",
              "      fill: #D2E3FC;\n",
              "    }\n",
              "\n",
              "    [theme=dark] .colab-df-convert:hover {\n",
              "      background-color: #434B5C;\n",
              "      box-shadow: 0px 1px 3px 1px rgba(0, 0, 0, 0.15);\n",
              "      filter: drop-shadow(0px 1px 2px rgba(0, 0, 0, 0.3));\n",
              "      fill: #FFFFFF;\n",
              "    }\n",
              "  </style>\n",
              "\n",
              "      <script>\n",
              "        const buttonEl =\n",
              "          document.querySelector('#df-ec97518a-ebf0-4ebb-99ae-c8901b5c27d5 button.colab-df-convert');\n",
              "        buttonEl.style.display =\n",
              "          google.colab.kernel.accessAllowed ? 'block' : 'none';\n",
              "\n",
              "        async function convertToInteractive(key) {\n",
              "          const element = document.querySelector('#df-ec97518a-ebf0-4ebb-99ae-c8901b5c27d5');\n",
              "          const dataTable =\n",
              "            await google.colab.kernel.invokeFunction('convertToInteractive',\n",
              "                                                     [key], {});\n",
              "          if (!dataTable) return;\n",
              "\n",
              "          const docLinkHtml = 'Like what you see? Visit the ' +\n",
              "            '<a target=\"_blank\" href=https://colab.research.google.com/notebooks/data_table.ipynb>data table notebook</a>'\n",
              "            + ' to learn more about interactive tables.';\n",
              "          element.innerHTML = '';\n",
              "          dataTable['output_type'] = 'display_data';\n",
              "          await google.colab.output.renderOutput(dataTable, element);\n",
              "          const docLink = document.createElement('div');\n",
              "          docLink.innerHTML = docLinkHtml;\n",
              "          element.appendChild(docLink);\n",
              "        }\n",
              "      </script>\n",
              "    </div>\n",
              "  </div>\n",
              "  "
            ]
          },
          "metadata": {},
          "execution_count": 6
        }
      ]
    },
    {
      "cell_type": "code",
      "source": [
        "df.info()"
      ],
      "metadata": {
        "id": "L16wL4cpGLA2",
        "outputId": "9b31305b-e90b-4879-94bc-3522a4858d58",
        "colab": {
          "base_uri": "https://localhost:8080/"
        }
      },
      "execution_count": null,
      "outputs": [
        {
          "output_type": "stream",
          "name": "stdout",
          "text": [
            "<class 'pandas.core.frame.DataFrame'>\n",
            "RangeIndex: 344 entries, 0 to 343\n",
            "Data columns (total 7 columns):\n",
            " #   Column          Non-Null Count  Dtype  \n",
            "---  ------          --------------  -----  \n",
            " 0   variety         344 non-null    object \n",
            " 1   area            344 non-null    object \n",
            " 2   dimension_1_mm  342 non-null    float64\n",
            " 3   dimension_2_mm  342 non-null    float64\n",
            " 4   dimension_3_mm  342 non-null    float64\n",
            " 5   mass_g          342 non-null    float64\n",
            " 6   sex             334 non-null    object \n",
            "dtypes: float64(4), object(3)\n",
            "memory usage: 18.9+ KB\n"
          ]
        }
      ]
    },
    {
      "cell_type": "code",
      "source": [
        "var = pd.crosstab(df.variety,\"variety\")\n",
        "var.plot.bar()"
      ],
      "metadata": {
        "id": "IIFeS_QHhXyr",
        "outputId": "fbc943ec-e11f-4f84-92f5-fbaa4418c4e6",
        "colab": {
          "base_uri": "https://localhost:8080/",
          "height": 335
        }
      },
      "execution_count": null,
      "outputs": [
        {
          "output_type": "execute_result",
          "data": {
            "text/plain": [
              "<matplotlib.axes._subplots.AxesSubplot at 0x7efd117a31d0>"
            ]
          },
          "metadata": {},
          "execution_count": 8
        },
        {
          "output_type": "display_data",
          "data": {
            "text/plain": [
              "<Figure size 432x288 with 1 Axes>"
            ],
            "image/png": "[encoded data removed]"
          },
          "metadata": {
            "needs_background": "light"
          }
        }
      ]
    },
    {
      "cell_type": "markdown",
      "source": [
        "*Il y a tois variétés différentes de dauphins.*"
      ],
      "metadata": {
        "id": "O2LIUQ8eiNQx"
      }
    },
    {
      "cell_type": "code",
      "source": [
        "area = pd.crosstab(df.area,\"area\")\n",
        "area.plot.bar()"
      ],
      "metadata": {
        "id": "R3gp9sSgiTRf",
        "outputId": "c2330440-483c-46b3-c112-986fc2f93eb5",
        "colab": {
          "base_uri": "https://localhost:8080/",
          "height": 338
        }
      },
      "execution_count": null,
      "outputs": [
        {
          "output_type": "execute_result",
          "data": {
            "text/plain": [
              "<matplotlib.axes._subplots.AxesSubplot at 0x7efd1170fd90>"
            ]
          },
          "metadata": {},
          "execution_count": 9
        },
        {
          "output_type": "display_data",
          "data": {
            "text/plain": [
              "<Figure size 432x288 with 1 Axes>"
            ],
            "image/png": "[encoded data removed]"
          },
          "metadata": {
            "needs_background": "light"
          }
        }
      ]
    },
    {
      "cell_type": "markdown",
      "source": [
        "*Il y a tois types de lieux où sont les dauphins.*"
      ],
      "metadata": {
        "id": "Ri_YgLbJibou"
      }
    },
    {
      "cell_type": "markdown",
      "source": [
        "Recherche des valeurs null ou manquante\n"
      ],
      "metadata": {
        "id": "p5Ayz4TiHg1W"
      }
    },
    {
      "cell_type": "code",
      "source": [
        "df.isnull().sum()\n"
      ],
      "metadata": {
        "id": "USleY8f5Gzhh",
        "outputId": "9301a6d2-ec4a-4457-faad-b5a0d551f936",
        "colab": {
          "base_uri": "https://localhost:8080/"
        }
      },
      "execution_count": null,
      "outputs": [
        {
          "output_type": "execute_result",
          "data": {
            "text/plain": [
              "variety            0\n",
              "area               0\n",
              "dimension_1_mm     2\n",
              "dimension_2_mm     2\n",
              "dimension_3_mm     2\n",
              "mass_g             2\n",
              "sex               10\n",
              "dtype: int64"
            ]
          },
          "metadata": {},
          "execution_count": 10
        }
      ]
    },
    {
      "cell_type": "markdown",
      "source": [
        "On peut constater qu'il il y deux valeurs manquantes ou null dans les colonnes dimension_1_mm, dimension_2_mm, dimension_3_mm et mass_g. \n",
        "Dans la colonnes sex, il manques 10 valeurs."
      ],
      "metadata": {
        "id": "zl4YOskfHsnI"
      }
    },
    {
      "cell_type": "code",
      "source": [
        "colS = pd.crosstab(df.sex,\"sex\")\n",
        "#Comparaison de la colonne sexe. Pour faire le choix des valeurs manquantes ou nulls.\n",
        "colS.plot.bar()"
      ],
      "metadata": {
        "id": "4PQrAf1OK3hC",
        "outputId": "55f4c87a-f502-4915-d38b-5f30fa60f013",
        "colab": {
          "base_uri": "https://localhost:8080/",
          "height": 326
        }
      },
      "execution_count": null,
      "outputs": [
        {
          "output_type": "execute_result",
          "data": {
            "text/plain": [
              "<matplotlib.axes._subplots.AxesSubplot at 0x7efd11239bd0>"
            ]
          },
          "metadata": {},
          "execution_count": 11
        },
        {
          "output_type": "display_data",
          "data": {
            "text/plain": [
              "<Figure size 432x288 with 1 Axes>"
            ],
            "image/png": "[encoded data removed]"
          },
          "metadata": {
            "needs_background": "light"
          }
        }
      ]
    },
    {
      "cell_type": "markdown",
      "source": [
        "# Pré-processing\n"
      ],
      "metadata": {
        "id": "GOx-JzaVUjKF"
      }
    },
    {
      "cell_type": "markdown",
      "source": [
        "Valeurs manquantes, encodages des données.\n",
        "la normalisation"
      ],
      "metadata": {
        "id": "YGPS7u7tabGn"
      }
    },
    {
      "cell_type": "markdown",
      "source": [
        "* Pour le traitement des valeurs null j'ai choisi de remplacer les valeurs numériques par la médiane.\n",
        "* Pour le traitement des valeurs de la colonne \"sex\", je décide de faire un mode qui va remplacer les valeurs manquantes par la valeur la plus courante. Qui est en l'occurrence 'Male'."
      ],
      "metadata": {
        "id": "p2VihrozZCP_"
      }
    },
    {
      "cell_type": "code",
      "source": [
        "median= df[\"dimension_1_mm\"].median()\n",
        "median1= df[\"dimension_2_mm\"].median()\n",
        "median2= df[\"dimension_3_mm\"].median()\n",
        "median3= df[\"mass_g\"].median()\n",
        "mode = df[\"sex\"].mode().values[0]\n",
        "\n",
        "df[\"dimension_1_mm\"].replace(np.nan,median,inplace=True)\n",
        "df[\"dimension_2_mm\"].replace(np.nan,median1,inplace=True)\n",
        "df[\"dimension_3_mm\"].replace(np.nan,median2,inplace=True)\n",
        "df[\"mass_g\"].replace(np.nan,median3,inplace=True)\n",
        "df[\"sex\"] = df[\"sex\"].replace(np.NaN, mode)"
      ],
      "metadata": {
        "id": "DbZEMqBzHeh9"
      },
      "execution_count": null,
      "outputs": []
    },
    {
      "cell_type": "code",
      "source": [
        "# Vérification des changements des valeurs des colonnes.\n",
        "df.isnull().sum()"
      ],
      "metadata": {
        "id": "MlmwAlCRJkgj",
        "outputId": "41d89a33-a3e4-4352-ea94-539bd46f4cf9",
        "colab": {
          "base_uri": "https://localhost:8080/"
        }
      },
      "execution_count": null,
      "outputs": [
        {
          "output_type": "execute_result",
          "data": {
            "text/plain": [
              "variety           0\n",
              "area              0\n",
              "dimension_1_mm    0\n",
              "dimension_2_mm    0\n",
              "dimension_3_mm    0\n",
              "mass_g            0\n",
              "sex               0\n",
              "dtype: int64"
            ]
          },
          "metadata": {},
          "execution_count": 13
        }
      ]
    },
    {
      "cell_type": "code",
      "source": [
        "from sklearn.preprocessing import OrdinalEncoder"
      ],
      "metadata": {
        "id": "i-ub2eATaYXX"
      },
      "execution_count": null,
      "outputs": []
    },
    {
      "cell_type": "code",
      "source": [
        "# Mise en place de l'ordinal encoding\n",
        "encoder = OrdinalEncoder()\n",
        "# J'effectue l'encodage des colonnes 'variety','area','sex' avec la methode fit_trasform\n",
        "df['variety'] = encoder.fit_transform(df[['variety']])\n",
        "df['area'] = encoder.fit_transform(df[['area']])\n",
        "df['sex'] = encoder.fit_transform(df[['sex']])"
      ],
      "metadata": {
        "id": "oc-tpiBKkHmq"
      },
      "execution_count": null,
      "outputs": []
    },
    {
      "cell_type": "code",
      "source": [
        "#Vérification de l'encodage\n",
        "df"
      ],
      "metadata": {
        "id": "jzMYpMClm_OZ",
        "outputId": "3ec125fe-b5a9-4ded-fc24-a2eef4d841dc",
        "colab": {
          "base_uri": "https://localhost:8080/",
          "height": 423
        }
      },
      "execution_count": null,
      "outputs": [
        {
          "output_type": "execute_result",
          "data": {
            "text/plain": [
              "     variety  area  dimension_1_mm  dimension_2_mm  dimension_3_mm  mass_g  \\\n",
              "0        2.0   0.0           39.10            18.7           181.0  3750.0   \n",
              "1        2.0   0.0           39.50            17.4           186.0  3800.0   \n",
              "2        2.0   0.0           40.30            18.0           195.0  3250.0   \n",
              "3        2.0   0.0           44.45            17.3           197.0  4050.0   \n",
              "4        2.0   0.0           36.70            19.3           193.0  3450.0   \n",
              "..       ...   ...             ...             ...             ...     ...   \n",
              "339      1.0   1.0           44.45            17.3           197.0  4050.0   \n",
              "340      1.0   1.0           46.80            14.3           215.0  4850.0   \n",
              "341      1.0   1.0           50.40            15.7           222.0  5750.0   \n",
              "342      1.0   1.0           45.20            14.8           212.0  5200.0   \n",
              "343      1.0   1.0           49.90            16.1           213.0  5400.0   \n",
              "\n",
              "     sex  \n",
              "0    2.0  \n",
              "1    1.0  \n",
              "2    1.0  \n",
              "3    2.0  \n",
              "4    1.0  \n",
              "..   ...  \n",
              "339  2.0  \n",
              "340  1.0  \n",
              "341  2.0  \n",
              "342  1.0  \n",
              "343  2.0  \n",
              "\n",
              "[344 rows x 7 columns]"
            ],
            "text/html": [
              "\n",
              "  <div id=\"df-8624ec07-68bd-40e8-b61c-cd207868cc4f\">\n",
              "    <div class=\"colab-df-container\">\n",
              "      <div>\n",
              "<style scoped>\n",
              "    .dataframe tbody tr th:only-of-type {\n",
              "        vertical-align: middle;\n",
              "    }\n",
              "\n",
              "    .dataframe tbody tr th {\n",
              "        vertical-align: top;\n",
              "    }\n",
              "\n",
              "    .dataframe thead th {\n",
              "        text-align: right;\n",
              "    }\n",
              "</style>\n",
              "<table border=\"1\" class=\"dataframe\">\n",
              "  <thead>\n",
              "    <tr style=\"text-align: right;\">\n",
              "      <th></th>\n",
              "      <th>variety</th>\n",
              "      <th>area</th>\n",
              "      <th>dimension_1_mm</th>\n",
              "      <th>dimension_2_mm</th>\n",
              "      <th>dimension_3_mm</th>\n",
              "      <th>mass_g</th>\n",
              "      <th>sex</th>\n",
              "    </tr>\n",
              "  </thead>\n",
              "  <tbody>\n",
              "    <tr>\n",
              "      <th>0</th>\n",
              "      <td>2.0</td>\n",
              "      <td>0.0</td>\n",
              "      <td>39.10</td>\n",
              "      <td>18.7</td>\n",
              "      <td>181.0</td>\n",
              "      <td>3750.0</td>\n",
              "      <td>2.0</td>\n",
              "    </tr>\n",
              "    <tr>\n",
              "      <th>1</th>\n",
              "      <td>2.0</td>\n",
              "      <td>0.0</td>\n",
              "      <td>39.50</td>\n",
              "      <td>17.4</td>\n",
              "      <td>186.0</td>\n",
              "      <td>3800.0</td>\n",
              "      <td>1.0</td>\n",
              "    </tr>\n",
              "    <tr>\n",
              "      <th>2</th>\n",
              "      <td>2.0</td>\n",
              "      <td>0.0</td>\n",
              "      <td>40.30</td>\n",
              "      <td>18.0</td>\n",
              "      <td>195.0</td>\n",
              "      <td>3250.0</td>\n",
              "      <td>1.0</td>\n",
              "    </tr>\n",
              "    <tr>\n",
              "      <th>3</th>\n",
              "      <td>2.0</td>\n",
              "      <td>0.0</td>\n",
              "      <td>44.45</td>\n",
              "      <td>17.3</td>\n",
              "      <td>197.0</td>\n",
              "      <td>4050.0</td>\n",
              "      <td>2.0</td>\n",
              "    </tr>\n",
              "    <tr>\n",
              "      <th>4</th>\n",
              "      <td>2.0</td>\n",
              "      <td>0.0</td>\n",
              "      <td>36.70</td>\n",
              "      <td>19.3</td>\n",
              "      <td>193.0</td>\n",
              "      <td>3450.0</td>\n",
              "      <td>1.0</td>\n",
              "    </tr>\n",
              "    <tr>\n",
              "      <th>...</th>\n",
              "      <td>...</td>\n",
              "      <td>...</td>\n",
              "      <td>...</td>\n",
              "      <td>...</td>\n",
              "      <td>...</td>\n",
              "      <td>...</td>\n",
              "      <td>...</td>\n",
              "    </tr>\n",
              "    <tr>\n",
              "      <th>339</th>\n",
              "      <td>1.0</td>\n",
              "      <td>1.0</td>\n",
              "      <td>44.45</td>\n",
              "      <td>17.3</td>\n",
              "      <td>197.0</td>\n",
              "      <td>4050.0</td>\n",
              "      <td>2.0</td>\n",
              "    </tr>\n",
              "    <tr>\n",
              "      <th>340</th>\n",
              "      <td>1.0</td>\n",
              "      <td>1.0</td>\n",
              "      <td>46.80</td>\n",
              "      <td>14.3</td>\n",
              "      <td>215.0</td>\n",
              "      <td>4850.0</td>\n",
              "      <td>1.0</td>\n",
              "    </tr>\n",
              "    <tr>\n",
              "      <th>341</th>\n",
              "      <td>1.0</td>\n",
              "      <td>1.0</td>\n",
              "      <td>50.40</td>\n",
              "      <td>15.7</td>\n",
              "      <td>222.0</td>\n",
              "      <td>5750.0</td>\n",
              "      <td>2.0</td>\n",
              "    </tr>\n",
              "    <tr>\n",
              "      <th>342</th>\n",
              "      <td>1.0</td>\n",
              "      <td>1.0</td>\n",
              "      <td>45.20</td>\n",
              "      <td>14.8</td>\n",
              "      <td>212.0</td>\n",
              "      <td>5200.0</td>\n",
              "      <td>1.0</td>\n",
              "    </tr>\n",
              "    <tr>\n",
              "      <th>343</th>\n",
              "      <td>1.0</td>\n",
              "      <td>1.0</td>\n",
              "      <td>49.90</td>\n",
              "      <td>16.1</td>\n",
              "      <td>213.0</td>\n",
              "      <td>5400.0</td>\n",
              "      <td>2.0</td>\n",
              "    </tr>\n",
              "  </tbody>\n",
              "</table>\n",
              "<p>344 rows × 7 columns</p>\n",
              "</div>\n",
              "      <button class=\"colab-df-convert\" onclick=\"convertToInteractive('df-8624ec07-68bd-40e8-b61c-cd207868cc4f')\"\n",
              "              title=\"Convert this dataframe to an interactive table.\"\n",
              "              style=\"display:none;\">\n",
              "        \n",
              "  <svg xmlns=\"http://www.w3.org/2000/svg\" height=\"24px\"viewBox=\"0 0 24 24\"\n",
              "       width=\"24px\">\n",
              "    <path d=\"M0 0h24v24H0V0z\" fill=\"none\"/>\n",
              "    <path d=\"M18.56 5.44l.94 2.06.94-2.06 2.06-.94-2.06-.94-.94-2.06-.94 2.06-2.06.94zm-11 1L8.5 8.5l.94-2.06 2.06-.94-2.06-.94L8.5 2.5l-.94 2.06-2.06.94zm10 10l.94 2.06.94-2.06 2.06-.94-2.06-.94-.94-2.06-.94 2.06-2.06.94z\"/><path d=\"M17.41 7.96l-1.37-1.37c-.4-.4-.92-.59-1.43-.59-.52 0-1.04.2-1.43.59L10.3 9.45l-7.72 7.72c-.78.78-.78 2.05 0 2.83L4 21.41c.39.39.9.59 1.41.59.51 0 1.02-.2 1.41-.59l7.78-7.78 2.81-2.81c.8-.78.8-2.07 0-2.86zM5.41 20L4 18.59l7.72-7.72 1.47 1.35L5.41 20z\"/>\n",
              "  </svg>\n",
              "      </button>\n",
              "      \n",
              "  <style>\n",
              "    .colab-df-container {\n",
              "      display:flex;\n",
              "      flex-wrap:wrap;\n",
              "      gap: 12px;\n",
              "    }\n",
              "\n",
              "    .colab-df-convert {\n",
              "      background-color: #E8F0FE;\n",
              "      border: none;\n",
              "      border-radius: 50%;\n",
              "      cursor: pointer;\n",
              "      display: none;\n",
              "      fill: #1967D2;\n",
              "      height: 32px;\n",
              "      padding: 0 0 0 0;\n",
              "      width: 32px;\n",
              "    }\n",
              "\n",
              "    .colab-df-convert:hover {\n",
              "      background-color: #E2EBFA;\n",
              "      box-shadow: 0px 1px 2px rgba(60, 64, 67, 0.3), 0px 1px 3px 1px rgba(60, 64, 67, 0.15);\n",
              "      fill: #174EA6;\n",
              "    }\n",
              "\n",
              "    [theme=dark] .colab-df-convert {\n",
              "      background-color: #3B4455;\n",
              "      fill: #D2E3FC;\n",
              "    }\n",
              "\n",
              "    [theme=dark] .colab-df-convert:hover {\n",
              "      background-color: #434B5C;\n",
              "      box-shadow: 0px 1px 3px 1px rgba(0, 0, 0, 0.15);\n",
              "      filter: drop-shadow(0px 1px 2px rgba(0, 0, 0, 0.3));\n",
              "      fill: #FFFFFF;\n",
              "    }\n",
              "  </style>\n",
              "\n",
              "      <script>\n",
              "        const buttonEl =\n",
              "          document.querySelector('#df-8624ec07-68bd-40e8-b61c-cd207868cc4f button.colab-df-convert');\n",
              "        buttonEl.style.display =\n",
              "          google.colab.kernel.accessAllowed ? 'block' : 'none';\n",
              "\n",
              "        async function convertToInteractive(key) {\n",
              "          const element = document.querySelector('#df-8624ec07-68bd-40e8-b61c-cd207868cc4f');\n",
              "          const dataTable =\n",
              "            await google.colab.kernel.invokeFunction('convertToInteractive',\n",
              "                                                     [key], {});\n",
              "          if (!dataTable) return;\n",
              "\n",
              "          const docLinkHtml = 'Like what you see? Visit the ' +\n",
              "            '<a target=\"_blank\" href=https://colab.research.google.com/notebooks/data_table.ipynb>data table notebook</a>'\n",
              "            + ' to learn more about interactive tables.';\n",
              "          element.innerHTML = '';\n",
              "          dataTable['output_type'] = 'display_data';\n",
              "          await google.colab.output.renderOutput(dataTable, element);\n",
              "          const docLink = document.createElement('div');\n",
              "          docLink.innerHTML = docLinkHtml;\n",
              "          element.appendChild(docLink);\n",
              "        }\n",
              "      </script>\n",
              "    </div>\n",
              "  </div>\n",
              "  "
            ]
          },
          "metadata": {},
          "execution_count": 16
        }
      ]
    },
    {
      "cell_type": "markdown",
      "source": [
        "Feature processing\n"
      ],
      "metadata": {
        "id": "gezZZ6dh2swS"
      }
    },
    {
      "cell_type": "code",
      "source": [
        "from sklearn.preprocessing import OneHotEncoder\n",
        "ohe_encod = OneHotEncoder(sparse = False)"
      ],
      "metadata": {
        "id": "VrQjiMj22yFf"
      },
      "execution_count": null,
      "outputs": []
    },
    {
      "cell_type": "code",
      "source": [
        "X = df[['area','dimension_1_mm', 'dimension_2_mm','dimension_3_mm','mass_g','sex']]\n",
        "X = ohe_encod.fit_transform(X)\n",
        "Y = df['variety']"
      ],
      "metadata": {
        "id": "JN_s9uNU23uN"
      },
      "execution_count": null,
      "outputs": []
    },
    {
      "cell_type": "code",
      "source": [
        "matrice_corr = df.corr().round(1)\n",
        "sns.heatmap(data=matrice_corr, annot=True)"
      ],
      "metadata": {
        "id": "uFRzMyYf6q0x",
        "outputId": "60f8c148-12d6-43e7-89f4-c95ff9b2e504",
        "colab": {
          "base_uri": "https://localhost:8080/",
          "height": 364
        }
      },
      "execution_count": null,
      "outputs": [
        {
          "output_type": "execute_result",
          "data": {
            "text/plain": [
              "<matplotlib.axes._subplots.AxesSubplot at 0x7efd111d0490>"
            ]
          },
          "metadata": {},
          "execution_count": 19
        },
        {
          "output_type": "display_data",
          "data": {
            "text/plain": [
              "<Figure size 432x288 with 2 Axes>"
            ],
            "image/png": "[encoded data removed]"
          },
          "metadata": {
            "needs_background": "light"
          }
        }
      ]
    },
    {
      "cell_type": "markdown",
      "source": [
        "# Modèle de prédiction\n"
      ],
      "metadata": {
        "id": "w7ZAHAHw9zCB"
      }
    },
    {
      "cell_type": "code",
      "source": [
        "#librairies machine learning\n",
        "from sklearn.neighbors import KNeighborsClassifier\n",
        "from sklearn.model_selection import cross_val_score\n",
        "from sklearn.model_selection import StratifiedKFold, cross_val_score"
      ],
      "metadata": {
        "id": "sz6zqESrAn_L"
      },
      "execution_count": null,
      "outputs": []
    },
    {
      "cell_type": "code",
      "source": [
        "from sklearn.model_selection import train_test_split"
      ],
      "metadata": {
        "id": "bZr81ivr7Fgq"
      },
      "execution_count": null,
      "outputs": []
    },
    {
      "cell_type": "code",
      "source": [
        "X_train, X_test, Y_train, Y_test = train_test_split(X, Y, test_size = 0.2, random_state=5, stratify =Y)"
      ],
      "metadata": {
        "id": "L4aPA07z7aOb"
      },
      "execution_count": null,
      "outputs": []
    },
    {
      "cell_type": "markdown",
      "source": [
        " KNeightborsClassifier\n"
      ],
      "metadata": {
        "id": "q-qU2ydn-Xad"
      }
    },
    {
      "cell_type": "code",
      "source": [
        "from sklearn.neighbors import KNeighborsClassifier\n",
        "model = KNeighborsClassifier()\n",
        "model.fit(X_train, Y_train)\n",
        "a = model.score(X_train, Y_train)\n",
        "print('le score est de :',a)"
      ],
      "metadata": {
        "id": "N0bWQNsJ-4aN",
        "outputId": "7433f713-1ec9-4bd9-cf72-4676220b8126",
        "colab": {
          "base_uri": "https://localhost:8080/"
        }
      },
      "execution_count": null,
      "outputs": [
        {
          "output_type": "stream",
          "name": "stdout",
          "text": [
            "le score est de : 0.8981818181818182\n"
          ]
        }
      ]
    },
    {
      "cell_type": "code",
      "source": [
        "# Métrique d'erreur\n",
        "from sklearn.metrics import mean_squared_error\n",
        "\n",
        "prediction = model.predict(X_test)\n",
        "mean_squared_error(Y_test, prediction)\n",
        "print(\"Résultat du MSE :\", round(np.sqrt(mean_squared_error(Y_test, prediction)), 2))"
      ],
      "metadata": {
        "id": "qPAlwtkMFvQg",
        "outputId": "5a6fdbf3-add1-411e-c549-768b37134183",
        "colab": {
          "base_uri": "https://localhost:8080/"
        }
      },
      "execution_count": null,
      "outputs": [
        {
          "output_type": "stream",
          "name": "stdout",
          "text": [
            "Résultat du MSE : 0.85\n"
          ]
        }
      ]
    },
    {
      "cell_type": "code",
      "source": [
        "#Paramètre du KNN\n",
        "parameters = {'n_neighbors': range(1, 21)}"
      ],
      "metadata": {
        "id": "pQXHDmfPGGte"
      },
      "execution_count": null,
      "outputs": []
    },
    {
      "cell_type": "code",
      "source": [
        "from sklearn.model_selection import GridSearchCV\n",
        "\n",
        "# Mise en place du grid search\n",
        "grid = GridSearchCV(model, parameters, cv = 5, n_jobs =-1, verbose = 1)"
      ],
      "metadata": {
        "id": "30ZaGn1cGQg4"
      },
      "execution_count": null,
      "outputs": []
    },
    {
      "cell_type": "code",
      "source": [
        "grid.fit(X_train, Y_train)"
      ],
      "metadata": {
        "id": "k1zRQXn5GSm8",
        "outputId": "17569b82-de01-4270-da0a-566fec6a3196",
        "colab": {
          "base_uri": "https://localhost:8080/"
        }
      },
      "execution_count": null,
      "outputs": [
        {
          "output_type": "stream",
          "name": "stdout",
          "text": [
            "Fitting 5 folds for each of 20 candidates, totalling 100 fits\n"
          ]
        },
        {
          "output_type": "execute_result",
          "data": {
            "text/plain": [
              "GridSearchCV(cv=5, estimator=KNeighborsClassifier(), n_jobs=-1,\n",
              "             param_grid={'n_neighbors': range(1, 21)}, verbose=1)"
            ]
          },
          "metadata": {},
          "execution_count": 30
        }
      ]
    },
    {
      "cell_type": "code",
      "source": [
        "grid.best_score_"
      ],
      "metadata": {
        "id": "aZRP6PviGYVV",
        "outputId": "54a41789-3cc8-46b5-f0c4-081a5c9eadb7",
        "colab": {
          "base_uri": "https://localhost:8080/"
        }
      },
      "execution_count": null,
      "outputs": [
        {
          "output_type": "execute_result",
          "data": {
            "text/plain": [
              "0.8145454545454547"
            ]
          },
          "metadata": {},
          "execution_count": 31
        }
      ]
    },
    {
      "cell_type": "code",
      "source": [
        "grid.best_params_"
      ],
      "metadata": {
        "id": "k4dtBkJyGbD8",
        "outputId": "9cef568e-3851-4bb0-f8da-e8d91ab4bfbd",
        "colab": {
          "base_uri": "https://localhost:8080/"
        }
      },
      "execution_count": null,
      "outputs": [
        {
          "output_type": "execute_result",
          "data": {
            "text/plain": [
              "{'n_neighbors': 1}"
            ]
          },
          "metadata": {},
          "execution_count": 32
        }
      ]
    },
    {
      "cell_type": "code",
      "source": [
        "grid.cv_results_['params']"
      ],
      "metadata": {
        "id": "YJxRsCvbGfaP",
        "outputId": "97ec0b97-5790-4c2d-b1ef-fdedbb636d73",
        "colab": {
          "base_uri": "https://localhost:8080/"
        }
      },
      "execution_count": null,
      "outputs": [
        {
          "output_type": "execute_result",
          "data": {
            "text/plain": [
              "[{'n_neighbors': 1},\n",
              " {'n_neighbors': 2},\n",
              " {'n_neighbors': 3},\n",
              " {'n_neighbors': 4},\n",
              " {'n_neighbors': 5},\n",
              " {'n_neighbors': 6},\n",
              " {'n_neighbors': 7},\n",
              " {'n_neighbors': 8},\n",
              " {'n_neighbors': 9},\n",
              " {'n_neighbors': 10},\n",
              " {'n_neighbors': 11},\n",
              " {'n_neighbors': 12},\n",
              " {'n_neighbors': 13},\n",
              " {'n_neighbors': 14},\n",
              " {'n_neighbors': 15},\n",
              " {'n_neighbors': 16},\n",
              " {'n_neighbors': 17},\n",
              " {'n_neighbors': 18},\n",
              " {'n_neighbors': 19},\n",
              " {'n_neighbors': 20}]"
            ]
          },
          "metadata": {},
          "execution_count": 33
        }
      ]
    },
    {
      "cell_type": "code",
      "source": [
        "list_params = grid.cv_results_['params']\n",
        "list_params"
      ],
      "metadata": {
        "id": "bS-4YuJvGhN3",
        "outputId": "935a141b-6920-4fec-8b4c-97358fd90929",
        "colab": {
          "base_uri": "https://localhost:8080/"
        }
      },
      "execution_count": null,
      "outputs": [
        {
          "output_type": "execute_result",
          "data": {
            "text/plain": [
              "[{'n_neighbors': 1},\n",
              " {'n_neighbors': 2},\n",
              " {'n_neighbors': 3},\n",
              " {'n_neighbors': 4},\n",
              " {'n_neighbors': 5},\n",
              " {'n_neighbors': 6},\n",
              " {'n_neighbors': 7},\n",
              " {'n_neighbors': 8},\n",
              " {'n_neighbors': 9},\n",
              " {'n_neighbors': 10},\n",
              " {'n_neighbors': 11},\n",
              " {'n_neighbors': 12},\n",
              " {'n_neighbors': 13},\n",
              " {'n_neighbors': 14},\n",
              " {'n_neighbors': 15},\n",
              " {'n_neighbors': 16},\n",
              " {'n_neighbors': 17},\n",
              " {'n_neighbors': 18},\n",
              " {'n_neighbors': 19},\n",
              " {'n_neighbors': 20}]"
            ]
          },
          "metadata": {},
          "execution_count": 34
        }
      ]
    },
    {
      "cell_type": "code",
      "source": [
        "value_params = [dic['n_neighbors'] for dic in list_params]\n",
        "value_params"
      ],
      "metadata": {
        "id": "tz0o4C6XHHV-",
        "outputId": "ead2d622-d1f2-4c3d-f354-ef6b3c0328d5",
        "colab": {
          "base_uri": "https://localhost:8080/"
        }
      },
      "execution_count": null,
      "outputs": [
        {
          "output_type": "execute_result",
          "data": {
            "text/plain": [
              "[1, 2, 3, 4, 5, 6, 7, 8, 9, 10, 11, 12, 13, 14, 15, 16, 17, 18, 19, 20]"
            ]
          },
          "metadata": {},
          "execution_count": 35
        }
      ]
    },
    {
      "cell_type": "code",
      "source": [
        "value_score = grid.cv_results_['mean_test_score']\n",
        "value_score"
      ],
      "metadata": {
        "id": "gZlVYeFJHWMn",
        "outputId": "ebe0ff26-b46b-4178-ee65-3c3e52340953",
        "colab": {
          "base_uri": "https://localhost:8080/"
        }
      },
      "execution_count": null,
      "outputs": [
        {
          "output_type": "execute_result",
          "data": {
            "text/plain": [
              "array([0.81454545, 0.76      , 0.78545455, 0.77454545, 0.77818182,\n",
              "       0.77090909, 0.75636364, 0.72727273, 0.73818182, 0.73454545,\n",
              "       0.72727273, 0.73454545, 0.73090909, 0.72      , 0.71636364,\n",
              "       0.72727273, 0.73454545, 0.70545455, 0.70909091, 0.70181818])"
            ]
          },
          "metadata": {},
          "execution_count": 38
        }
      ]
    },
    {
      "cell_type": "code",
      "source": [
        "sns.lineplot(x=value_params, y=value_score).set_title('Paramètre d optimisation')"
      ],
      "metadata": {
        "id": "BahR_mm0HdCR",
        "outputId": "5d1b7ab8-b01d-4262-cc36-ad34fe0d5cb5",
        "colab": {
          "base_uri": "https://localhost:8080/",
          "height": 298
        }
      },
      "execution_count": null,
      "outputs": [
        {
          "output_type": "execute_result",
          "data": {
            "text/plain": [
              "Text(0.5, 1.0, 'Paramètre d optimisation')"
            ]
          },
          "metadata": {},
          "execution_count": 37
        },
        {
          "output_type": "display_data",
          "data": {
            "text/plain": [
              "<Figure size 432x288 with 1 Axes>"
            ],
            "image/png": "[encoded data removed]"
          },
          "metadata": {
            "needs_background": "light"
          }
        }
      ]
    },
    {
      "cell_type": "code",
      "source": [
        "from sklearn.preprocessing import MinMaxScaler\n",
        "from sklearn.pipeline import Pipeline\n",
        "\n",
        "pipe = Pipeline(steps=[\n",
        "    ('scaler', MinMaxScaler()),\n",
        "    ('model', KNeighborsClassifier())]\n",
        "    )"
      ],
      "metadata": {
        "id": "3nzdOGdyHpgt"
      },
      "execution_count": null,
      "outputs": []
    },
    {
      "cell_type": "code",
      "source": [
        "parameters = {'model__n_neighbors': range(1, 9, 2),\n",
        "              'model__weights' : ['uniform', 'distance'],\n",
        "              'model__algorithm' : ['auto'],             \n",
        "              'model__metric': ['euclidean', 'manhattan']}"
      ],
      "metadata": {
        "id": "rRPv6lo9HsDL"
      },
      "execution_count": null,
      "outputs": []
    },
    {
      "cell_type": "code",
      "source": [
        "from sklearn.model_selection import GridSearchCV\n",
        "grid = GridSearchCV(cv=5, estimator=KNeighborsClassifier(), n_jobs=-1,\n",
        "             param_grid={'n_neighbors': range(1, 21)}, verbose=1)"
      ],
      "metadata": {
        "id": "SAE7H5BWH0DU"
      },
      "execution_count": null,
      "outputs": []
    },
    {
      "cell_type": "code",
      "source": [
        "grid.fit(X_train, Y_train)"
      ],
      "metadata": {
        "id": "HUL15umbH3Q7",
        "outputId": "5ca47ebf-2f44-4a07-ecf0-88e89f0c289d",
        "colab": {
          "base_uri": "https://localhost:8080/"
        }
      },
      "execution_count": null,
      "outputs": [
        {
          "output_type": "stream",
          "name": "stdout",
          "text": [
            "Fitting 5 folds for each of 20 candidates, totalling 100 fits\n"
          ]
        },
        {
          "output_type": "execute_result",
          "data": {
            "text/plain": [
              "GridSearchCV(cv=5, estimator=KNeighborsClassifier(), n_jobs=-1,\n",
              "             param_grid={'n_neighbors': range(1, 21)}, verbose=1)"
            ]
          },
          "metadata": {},
          "execution_count": 48
        }
      ]
    },
    {
      "cell_type": "code",
      "source": [
        "grid.best_score_"
      ],
      "metadata": {
        "id": "lo7IR2J3H8Dv",
        "outputId": "40e21351-5408-40be-aaee-3cfadf6eeda7",
        "colab": {
          "base_uri": "https://localhost:8080/"
        }
      },
      "execution_count": null,
      "outputs": [
        {
          "output_type": "execute_result",
          "data": {
            "text/plain": [
              "0.8145454545454547"
            ]
          },
          "metadata": {},
          "execution_count": 49
        }
      ]
    },
    {
      "cell_type": "code",
      "source": [
        "prediction = grid.predict(X_test)\n",
        "mean_squared_error(Y_test, prediction)\n",
        "print(\"Résultat du MSE :\", round(np.sqrt(mean_squared_error(Y_test, prediction)), 2))"
      ],
      "metadata": {
        "id": "TGK5NI9pIAEd",
        "outputId": "44631412-4133-4682-d52c-48d61a415fdf",
        "colab": {
          "base_uri": "https://localhost:8080/"
        }
      },
      "execution_count": null,
      "outputs": [
        {
          "output_type": "stream",
          "name": "stdout",
          "text": [
            "Résultat du MSE : 0.85\n"
          ]
        }
      ]
    },
    {
      "cell_type": "markdown",
      "source": [
        "Je suis désolée, j'ai compris ce que j'ai effectué dans mes démarches, mais manque de temps pour moi.\n",
        "Je n'es malheureusement pas eut le temps de tout faire commme je le voulais.\n",
        "Et faire un document propre avec des fonctions, plus de graphiques et d'explication.\n",
        "\n",
        "J'ai au moins un score à présenter c'est déjà pas si mal..\n"
      ],
      "metadata": {
        "id": "iSymUgs0JqdL"
      }
    }
  ]
}